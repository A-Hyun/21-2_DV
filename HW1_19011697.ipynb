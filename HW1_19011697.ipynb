{
  "nbformat": 4,
  "nbformat_minor": 0,
  "metadata": {
    "colab": {
      "name": "HW1_19011697.ipynb",
      "provenance": [],
      "collapsed_sections": []
    },
    "kernelspec": {
      "name": "python3",
      "display_name": "Python 3"
    },
    "language_info": {
      "name": "python"
    }
  },
  "cells": [
    {
      "cell_type": "code",
      "metadata": {
        "id": "0rxQzKPlXd1O"
      },
      "source": [
        "import pandas as pd\n",
        "import matplotlib.pyplot as plt"
      ],
      "execution_count": 6,
      "outputs": []
    },
    {
      "cell_type": "code",
      "metadata": {
        "id": "kP7Xk4Ibe1py"
      },
      "source": [
        "plt.rc('font', family='Malgun Gothic')\n",
        "plt.style.use('ggplot')\n",
        "filename = 'C:/Python39/data/kbo.csv'"
      ],
      "execution_count": 13,
      "outputs": []
    },
    {
      "cell_type": "code",
      "metadata": {
        "colab": {
          "base_uri": "https://localhost:8080/",
          "height": 35
        },
        "id": "onMnCipliVFr",
        "outputId": "debc3e74-d26e-4959-d3fb-f030ae199733"
      },
      "source": [
        "filename"
      ],
      "execution_count": 14,
      "outputs": [
        {
          "output_type": "execute_result",
          "data": {
            "application/vnd.google.colaboratory.intrinsic+json": {
              "type": "string"
            },
            "text/plain": [
              "'C:/Python39/data/kbo.csv'"
            ]
          },
          "metadata": {},
          "execution_count": 14
        }
      ]
    }
  ]
}